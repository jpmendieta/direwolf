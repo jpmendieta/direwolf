{
 "cells": [
  {
   "cell_type": "markdown",
   "metadata": {},
   "source": [
    "# Pet Grooming Machine Learning Project"
   ]
  },
  {
   "cell_type": "markdown",
   "metadata": {},
   "source": [
    "By JP Mendieta"
   ]
  },
  {
   "cell_type": "markdown",
   "metadata": {},
   "source": [
    "# 1. Background"
   ]
  },
  {
   "cell_type": "markdown",
   "metadata": {},
   "source": [
    "My parents own a small pet grooming.  Over the years, we've incorporated more and more technology into the business, from setting up credit card terminals, to storing client information in a client management application.  We've never done any analytics on our clientele though. We have an idea of when our peak business months are, but we don't have any metrics to back it up.  Additionally,  every client has their own grooming schedule.  Some bring their pets every month, others once a year.  It would be really useful to get a better understanding of how often a client brings their pet and what factors influence their grooming schedule.  Knowing this will help us, in advance, prepare our inventory (how much shampoo should be ordered, the type of shampoo) and also shape our outreach initiatives.  Ideally, we would like to target and retain clients who are likely to bring their pets more frequently."
   ]
  },
  {
   "cell_type": "markdown",
   "metadata": {},
   "source": [
    "# 2. Problem Statement"
   ]
  },
  {
   "cell_type": "markdown",
   "metadata": {},
   "source": [
    "**Can I predict how often a customer will bring his/her pet(s) to be groomed?**\n",
    "\n",
    "My initial hypotheses:\n",
    "1. The breed of the dog is a good predictor of grooming frequency.  This could probably be broken further down into long-haired vs short-haired. For example, long-haired dogs require more maintenance.\n",
    "2. The number of pets a client has is also a good predictor.  The more pets a client has, the more costly the grooming will be.  The high cost could deter clients from bringing their pets more frequently.\n",
    "3. The client's commute is also a good predictor. The longer the commute, the less likely the client will make the trip."
   ]
  },
  {
   "cell_type": "markdown",
   "metadata": {},
   "source": [
    "# 3. Data"
   ]
  },
  {
   "cell_type": "markdown",
   "metadata": {},
   "source": [
    "## 3.1 Client Management Application"
   ]
  },
  {
   "cell_type": "markdown",
   "metadata": {},
   "source": [
    "We've been using a client management application for a number of years now.  This was a huge upgrade over our previous client management system - several shoeboxes full of 4x6 index cards.  Nowadays, any time a new client comes to the grooming, the receptionist simply inputs the client's data directly to the app.  Similarly, if a client gets a new pet, the receptionist can easily update that client's profile. The UI is well-designed and incredibly easy to navigate.  Even my mom can use it.\n",
    "\n",
    "The application stores the data on a Microsoft SQL Server.  After doing some exploring, I found that the app provides an option to export the tables as tab-delimited txt files.  The two main tables that get populated are the **Clients** table and the **Pets** table.\n",
    "\n",
    "Because the tables were saved as tab-delimited txt files, it was simple to load them to pandas for analysis."
   ]
  },
  {
   "cell_type": "markdown",
   "metadata": {},
   "source": [
    "`clients = pd.read_table('Clients.txt', sep='\\t')`"
   ]
  },
  {
   "cell_type": "markdown",
   "metadata": {},
   "source": [
    "*A small representation of the client data:*"
   ]
  },
  {
   "cell_type": "markdown",
   "metadata": {},
   "source": [
    "Address|City|Phone|FirstName|Zipcode\n",
    "---|---|---|---|---\n",
    "100 Apple St.|Olney|222-555-1234|Joe|20833\n",
    "210 Pear Dr.|Rockville|301-555-1234|Anna|20832\n",
    "3010 Strawberry Ln.|Reston|240-535-1255|Sam|20171"
   ]
  },
  {
   "cell_type": "markdown",
   "metadata": {},
   "source": [
    "`clients.shape` yields: (3189, 55)"
   ]
  },
  {
   "cell_type": "markdown",
   "metadata": {},
   "source": [
    "Quickly, we can see there are over 3,000 clients.  Though there are 55 fields, many of them are null or empty. For many of our clients, asking them for their **Date of Birth** would probably result in us getting the evil eye."
   ]
  },
  {
   "cell_type": "markdown",
   "metadata": {},
   "source": [
    "*A small representation of the pet data:*"
   ]
  },
  {
   "cell_type": "markdown",
   "metadata": {},
   "source": [
    "ClientID|Breed|Gender|DOB|Barker|Name\n",
    "---|---|---|---|---|---\n",
    "4750|Pug|M|10/01/2008|F|Pugsley\n",
    "4750|Golden Retriever|F|05/05/2013|F|Goldie\n",
    "4752|Shih Tzu|F|07/01/2014|F|Sue"
   ]
  },
  {
   "cell_type": "markdown",
   "metadata": {},
   "source": [
    "`pets.shape` yields: (3989,40)"
   ]
  },
  {
   "cell_type": "markdown",
   "metadata": {},
   "source": [
    "Some of fields are populated with default values (i.e. F, or False, for Barker), which was initially misleading when doing a `pets.isnull().sum()` count.\n",
    "\n",
    "The **Pets** table is connected to the **Clients** table through the **ClientID** foreign key.  Doing a count of the pet observations by ClientID returns the number of pets each client has:"
   ]
  },
  {
   "cell_type": "markdown",
   "metadata": {},
   "source": [
    "`num_pets = pets.ClientID.value_counts().head(5)`"
   ]
  },
  {
   "cell_type": "markdown",
   "metadata": {},
   "source": [
    "ClientID|Count\n",
    "---|---\n",
    "4675|9\n",
    "5644|6\n",
    "4384|5\n",
    "5107|5\n",
    "5298|5"
   ]
  },
  {
   "cell_type": "markdown",
   "metadata": {},
   "source": [
    "Reviewing the counts brought up some more questions, such as, did Client 4675 really have 9 pets?  Maybe the client had six pets, three passed away, so he/she then got three more.\n",
    "\n",
    "I ran several more counts (only the top 5 rows of each are shown).\n",
    "* `cities = clients.City.value_counts()`\n",
    "\n",
    "City|Count\n",
    "---|---\n",
    "Olney|949\n",
    "Silver Spring|551\n",
    "Brookeville|472\n",
    "Rockville|323\n",
    "Gaithersburg|179\n",
    "* `zipcodes = clients.ZIP.value_counts()`\n",
    "\n",
    "ZIP|Count\n",
    "---|---\n",
    "20832|932\n",
    "20833|470\n",
    "20853|247\n",
    "20906|216\n",
    "20905|177\n",
    "* `pet_breeds = pets.Breed.value_counts()`\n",
    "\n",
    "Breed|Count\n",
    "---|---\n",
    "Shih Tzu|279\n",
    "Goldern Retriever|219\n",
    "Bichon Frise|161\n",
    "Yorkshire Terrier|155\n",
    "Maltese|148\n",
    "\n",
    "Reviewing the highest city counts, I could already see that the farther the city, the less clients we have.  There are in total 485 different breeds too.  This might not make a great feature due to it's high variety, but low counts (there are several dozen mixed breeds that only have a count of 1)."
   ]
  },
  {
   "cell_type": "markdown",
   "metadata": {},
   "source": [
    "## 3.2 Accounting Spreadsheets"
   ]
  },
  {
   "cell_type": "markdown",
   "metadata": {},
   "source": [
    "The second data source I expected to use was the appointment data.  Unfortunately, after talking to my parents and the receptionists, I found out the appointments are still maintained in an appointment notebook. I did some more exploring and found accounting spreadsheets for every day of the past four years.  These spreadsheets have the following format:\n",
    "* Title: **April 1, 2015.xlsx**\n",
    "\n",
    "Credit||Check||Cash||Tip||\n",
    "---|---|---|---|---|---|---|---\n",
    "Faber|135|Mendes|145|Dillashaw|135|Grillo|20\n",
    "Aldo|45|Mcgregor|145|Edgar|75|Jones|15\n",
    "Jones|205|||Cormier|90||\n",
    "|||||||\n",
    "|||||||\n",
    "Total|385|Total|380|Total|210|Total|35\n",
    "|||||||\n",
    "|||Day Total|930|||\n",
    "\n",
    "I realized if I counted all of the names in the spreadsheet, I would at least know how many clients came that day.  I then wrote a script to do a count of all of the names for all of the spreadsheets for the past four years:\n",
    "\n",
    "```python\n",
    "date_client_count = []\n",
    "directory = '/Users/jp/Projects/janneths/data/Payments/'\n",
    "for path, dirs, files in os.walk(directory):\n",
    "        for f in files:     \n",
    "            if f[0] not in ['.','~']:\n",
    "                #Zero out counts\n",
    "                credit_count = 0\n",
    "                check_count = 0\n",
    "                cash_count = 0\n",
    "                \n",
    "                #Read single spreadsheet into dataframe\n",
    "                payment = pd.read_excel(os.path.join(path,f),sheetname=0)\n",
    "                \n",
    "                #Find counts\n",
    "                credit_count = payment.Credit[payment.Credit.notnull() & (payment.Credit != 'Total')].describe()['count']\n",
    "                check_count = payment.Check[payment.Check.notnull() & (payment.Check != 'Total') & (payment.Check != 'Day Total')].describe()['count']\n",
    "                cash_count = payment.Cash[payment.Cash.notnull() & (payment.Cash != 'Total')].describe()['count']\n",
    "                \n",
    "                total_count = credit_count + check_count + cash_count\n",
    "                \n",
    "                #Convert filename to datetime object\n",
    "                date = datetime.datetime.strptime(f.replace('.xlsx',''), '%B %d, %Y')\n",
    "                day_of_week = date.weekday()\n",
    "                \n",
    "                #Store results in master list\n",
    "                date_client_count.append((date,day_of_week,credit_count,check_count,cash_count, total_count))\n",
    "\n",
    "#Load counts to a dataframe\n",
    "df_dates = pd.DataFrame(date_client_count, columns=['Date','Weekday','Credit_Count','Check_Count','Cash_Count','Total_Count'])\n",
    "df_dates.sort('Date')\n",
    "```\n",
    "\n",
    "In addition to collecting the counts, I also converted the filenames into datetime values.  I later realized I could probably have done this directly in the dataframe. Having the datetime values allowed me to plot the counts over time.  I plotted the counts for the year 2015:\n",
    "\n",
    "```python\n",
    "df_2015 = df_dates[(df_dates.Date >= '2015-01-01') & (df_dates.Date < '2016-01-01')]\n",
    "df_2015.plot(kind='line', x='Date', y='Total_Count', title = 'Client Counts')\n",
    "```"
   ]
  },
  {
   "cell_type": "markdown",
   "metadata": {},
   "source": [
    "![alt text](../images/client_counts_2015.png)"
   ]
  },
  {
   "cell_type": "markdown",
   "metadata": {},
   "source": [
    "Reviewing the plot, it looks like client counts increase as the weather gets warmer, then declines again as the weather cools off.  I then plotted the counts for a specific month:"
   ]
  },
  {
   "cell_type": "markdown",
   "metadata": {},
   "source": [
    "![alt text](../images/client_counts_aug2015.png)"
   ]
  },
  {
   "cell_type": "markdown",
   "metadata": {},
   "source": [
    "There appears to be clear peaks and valleys.  I calculated the mean counts by day of the week for this month and got the following:\n",
    "\n",
    "Weekday|Mean Count\n",
    "---|---\n",
    "0|22.6\n",
    "1|27.5\n",
    "2|20\n",
    "3|23.75\n",
    "4|26.5\n",
    "5|29\n",
    "\n",
    "Wednesday (Weekday 2) has the lowest mean count, whereas Saturday (Weekday 5) has the highest mean count."
   ]
  },
  {
   "cell_type": "markdown",
   "metadata": {},
   "source": [
    "# 4. Feature Analysis"
   ]
  },
  {
   "cell_type": "markdown",
   "metadata": {},
   "source": [
    "### 4.1 Breed"
   ]
  },
  {
   "cell_type": "markdown",
   "metadata": {},
   "source": [
    "The first feature I specified in the problem statement is **breed**. There are 485 unique breeds, but there are not enough clients for each breed to effectively model the data against.  Breed is still a valuable launching pad to engineer other potential significant features.  I previously mentioned long-haired vs short-haired, but this trait might be hard to collect for each breed.  Alternatively,  I could categorize the pets by **size**.  If a dog is equal to or less than 30lbs, I can classify it as **small**.  If it is greater than 20lbs, I can classify it as **large**.  Instinctively, I can make the assumption that large dogs tend to be outside more often than small dogs.  I found a website (http://modernpuppies.com/breedweightchart.aspx) that lists average weights by dog breed for over 171 breeds:\n",
    "\n",
    "Breed|Average Adult Weight|Average Adult Weight\n",
    "---|---|---\n",
    "Affenpinscher|Male:7-9lbs|Female:7-9lbs\n",
    "Afghan Hound|Male:60lbs|Female:50lbs\n",
    "Akita|Male:85-130lbs|Female:65-110lbs\n",
    "\n",
    "I copy and pasted the chart to a spreadsheet, but I will still need to write a script to parse and map the weights to my **Pets** dataframe.  I might have to also adjust my weight threshold or introduce a third, **medium size**, category."
   ]
  },
  {
   "cell_type": "markdown",
   "metadata": {},
   "source": [
    "### 4.2 Number of Pets "
   ]
  },
  {
   "cell_type": "markdown",
   "metadata": {},
   "source": [
    "The number of pets per client is already in the data. As shown in **Section 3.1**, doing a count of the pet observations, in the **Pet** table, by **ClientID** returns the number of pets each client has."
   ]
  },
  {
   "cell_type": "markdown",
   "metadata": {},
   "source": [
    "### 4.3 Commute"
   ]
  },
  {
   "cell_type": "markdown",
   "metadata": {},
   "source": [
    "Reviewing the client counts by city,  I could clearly see a drop in clients the further the city was from the grooming. There are 90 unique cities in the data.  I could use the Google Maps API (https://developers.google.com/maps/documentation/geocoding/intro) to geocode the addresses and then calculate the distance of each client lat-long coordinate to the grooming lat-long."
   ]
  },
  {
   "cell_type": "markdown",
   "metadata": {},
   "source": [
    "### 4.4 Other Features"
   ]
  },
  {
   "cell_type": "markdown",
   "metadata": {},
   "source": [
    "I asked my parents what factors they thought influenced clients to bring their pets more frequently.  My dad mentioned that clients without kids are more likely to bring their pets more frequently because they put more attention to their pets.  The receptionist thought it was more of a socio-economic factor. I don't have access to this data about our clientele though.  I could use census data, but a lot of it is at the county level, which is too broad for my needs."
   ]
  },
  {
   "cell_type": "markdown",
   "metadata": {},
   "source": [
    "### 4.5 Response Variable"
   ]
  },
  {
   "cell_type": "markdown",
   "metadata": {},
   "source": [
    "Despite all the digging and data exploitation I found myself doing, I still could not collect the response variable I needed - how frequently a client comes to the grooming.  The **accounting spreadsheets** contain the clients' last names.  An option would be to map the counts by client last name (i.e. Mendieta came to the grooming five times in 2015).  This would be inaccurate though, since clients with the same last name would be grouped together.  A possible solution is to do a count of client last names and only use clients with unique last names.  This would reduce the size of the dataset, but I would have to check if the difference is significant.  My other option is to give up and just modify my problem statement."
   ]
  },
  {
   "cell_type": "markdown",
   "metadata": {},
   "source": [
    "# 5. Modeling"
   ]
  },
  {
   "cell_type": "markdown",
   "metadata": {},
   "source": [
    "With this problem statement still in mind, I would first use a K-Nearest Neighbor Classification model. The response variable would be a binary response: frequent vs not frequent. Plotting the frequency counts by client will provide a quick visualization on if there is a clear separation in frequency counts; below that threshold can be considered not frequent and above frequent."
   ]
  },
  {
   "cell_type": "markdown",
   "metadata": {},
   "source": [
    "# 6. Conslusion"
   ]
  },
  {
   "cell_type": "markdown",
   "metadata": {},
   "source": [
    "Clearly, I still have some work to do.  Some positives from this project are that the receptionists are now inputting appointments into the client management application.  I would still like to pursue this problem statement, but I am also brainstorming ways to still use the data I've collected, but on a slightly different statement, such as: Can I predict what type of dog a client has?"
   ]
  }
 ],
 "metadata": {
  "kernelspec": {
   "display_name": "Python 2",
   "language": "python",
   "name": "python2"
  },
  "language_info": {
   "codemirror_mode": {
    "name": "ipython",
    "version": 2
   },
   "file_extension": ".py",
   "mimetype": "text/x-python",
   "name": "python",
   "nbconvert_exporter": "python",
   "pygments_lexer": "ipython2",
   "version": "2.7.9"
  }
 },
 "nbformat": 4,
 "nbformat_minor": 0
}
